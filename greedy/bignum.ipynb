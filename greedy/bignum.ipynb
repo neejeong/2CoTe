{
  "nbformat": 4,
  "nbformat_minor": 0,
  "metadata": {
    "colab": {
      "name": "bignum.ipynb",
      "provenance": [],
      "authorship_tag": "ABX9TyMgPSFwG4NkOU1JcRgcESzb",
      "include_colab_link": true
    },
    "kernelspec": {
      "name": "python3",
      "display_name": "Python 3"
    },
    "language_info": {
      "name": "python"
    }
  },
  "cells": [
    {
      "cell_type": "markdown",
      "metadata": {
        "id": "view-in-github",
        "colab_type": "text"
      },
      "source": [
        "<a href=\"https://colab.research.google.com/github/neejeong/2CoTe/blob/main/greedy/bignum.ipynb\" target=\"_parent\"><img src=\"https://colab.research.google.com/assets/colab-badge.svg\" alt=\"Open In Colab\"/></a>"
      ]
    },
    {
      "cell_type": "code",
      "metadata": {
        "colab": {
          "base_uri": "https://localhost:8080/"
        },
        "id": "s3vr2w-6DeeA",
        "outputId": "a539a2e0-2ebc-43c2-9d8a-b1372463a9de"
      },
      "source": [
        "n,m,k = map(int,input().split(' '))\n",
        "num = list(map(int,input().split(' ')))\n",
        "num.sort()\n",
        "res = 0\n",
        "\n",
        "while True:\n",
        "  for i in range(k):\n",
        "    res += num[-1]\n",
        "    m -= 1\n",
        "    if m == 0:\n",
        "      break\n",
        "\n",
        "  res += num[-2]\n",
        "  m -= 1\n",
        "  if m == 0:\n",
        "    break\n",
        "\n",
        "print(res)\n"
      ],
      "execution_count": 16,
      "outputs": [
        {
          "output_type": "stream",
          "text": [
            "5 8 3\n",
            "2 4 6 4 5\n",
            "46\n"
          ],
          "name": "stdout"
        }
      ]
    },
    {
      "cell_type": "markdown",
      "metadata": {
        "id": "nXGjLK_7oDQ1"
      },
      "source": [
        "sol(단순)"
      ]
    },
    {
      "cell_type": "code",
      "metadata": {
        "colab": {
          "base_uri": "https://localhost:8080/"
        },
        "id": "eVhTFR2HmPyI",
        "outputId": "d4b903d0-ec98-4ffa-cc1a-c29f9346f58f"
      },
      "source": [
        "n,m,k = map(int,input().split(' '))\n",
        "num = list(map(int,input().split(' ')))\n",
        "num.sort()\n",
        "res = 0\n",
        "\n",
        "while True:\n",
        "  for i in range(k):\n",
        "    if m == 0:\n",
        "      break    \n",
        "    m -= 1\n",
        "    res += num[-1]\n",
        "  if m == 0:\n",
        "    break\n",
        "  res += num[-2]\n",
        "  m -= 1\n",
        "\n",
        "print(res)\n"
      ],
      "execution_count": 14,
      "outputs": [
        {
          "output_type": "stream",
          "text": [
            "5 8 3\n",
            "2 4 5 4 6\n",
            "46\n"
          ],
          "name": "stdout"
        }
      ]
    },
    {
      "cell_type": "markdown",
      "metadata": {
        "id": "qz-dCl0foGi7"
      },
      "source": [
        "위의 코드는 숫자가 커지면 시간초과날 것\n",
        "\n",
        "=> 반복되는 **수열**에 대해 파악해야 한다\n"
      ]
    },
    {
      "cell_type": "code",
      "metadata": {
        "colab": {
          "base_uri": "https://localhost:8080/"
        },
        "id": "ldTuDDc3oaaS",
        "outputId": "be7c8ac2-9c48-4804-a68f-c1c926e1d74e"
      },
      "source": [
        "n,m,k = map(int,input().split(' '))\n",
        "num = list(map(int, input().split(' ')))\n",
        "num.sort()\n",
        "\n",
        "max1 = num[-1]\n",
        "max2 = num[-2]\n",
        "\n",
        "x = (max1*k)+max2\n",
        "\n",
        "res = (m%(k+1))*max1 +(m//(k+1))*x\n",
        "\n",
        "print(res)\n",
        "\n"
      ],
      "execution_count": 21,
      "outputs": [
        {
          "output_type": "stream",
          "text": [
            "5 8 3\n",
            "2 4 6 4 5\n",
            "46\n"
          ],
          "name": "stdout"
        }
      ]
    }
  ]
}