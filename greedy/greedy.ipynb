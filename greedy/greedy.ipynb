{
  "nbformat": 4,
  "nbformat_minor": 0,
  "metadata": {
    "colab": {
      "name": "greedy.ipynb",
      "provenance": [],
      "authorship_tag": "ABX9TyNF7VUXKlPXK8x8LJfA2PKq",
      "include_colab_link": true
    },
    "kernelspec": {
      "name": "python3",
      "display_name": "Python 3"
    },
    "language_info": {
      "name": "python"
    }
  },
  "cells": [
    {
      "cell_type": "markdown",
      "metadata": {
        "id": "view-in-github",
        "colab_type": "text"
      },
      "source": [
        "<a href=\"https://colab.research.google.com/github/neejeong/2CoTe/blob/main/greedy/greedy.ipynb\" target=\"_parent\"><img src=\"https://colab.research.google.com/assets/colab-badge.svg\" alt=\"Open In Colab\"/></a>"
      ]
    },
    {
      "cell_type": "markdown",
      "metadata": {
        "id": "JpPc6nti_h0X"
      },
      "source": [
        "# 01. 그리디\n",
        "현재 상황에서 지금 당장 좋은 것만 고르는 방법\n",
        "\n",
        "\n",
        "---\n",
        "예제 1-1 거스름돈"
      ]
    },
    {
      "cell_type": "code",
      "metadata": {
        "colab": {
          "base_uri": "https://localhost:8080/"
        },
        "id": "KOIRIXlO-CkM",
        "outputId": "5894a819-6b04-453d-8764-6036fdc367f5"
      },
      "source": [
        "### 예제 1-1 거스름돈\n",
        "\n",
        "n = int(input())\n",
        "cnt = 0\n",
        "\n",
        "coin = [500,100,50,10]\n",
        "for i in coin:\n",
        "  x = n//i\n",
        "  cnt += x\n",
        "  n = n-(i*x)\n",
        "\n",
        "print(cnt)"
      ],
      "execution_count": 4,
      "outputs": [
        {
          "output_type": "stream",
          "text": [
            "1260\n",
            "6\n"
          ],
          "name": "stdout"
        }
      ]
    },
    {
      "cell_type": "markdown",
      "metadata": {
        "id": "rDjiDQhJCutY"
      },
      "source": [
        "예제 1-1 거스름돈 답안 예시"
      ]
    },
    {
      "cell_type": "code",
      "metadata": {
        "colab": {
          "base_uri": "https://localhost:8080/"
        },
        "id": "PX4Pc_C5BmUk",
        "outputId": "d63a4c4e-38db-4e33-faf2-d058e52d5525"
      },
      "source": [
        "n = int(input())\n",
        "cnt = 0\n",
        "\n",
        "coin = [500,100,50,10]\n",
        "for i in coin:\n",
        "  cnt += n//i\n",
        "  n %= i\n",
        "\n",
        "print(cnt)"
      ],
      "execution_count": 7,
      "outputs": [
        {
          "output_type": "stream",
          "text": [
            "1260\n",
            "6\n"
          ],
          "name": "stdout"
        }
      ]
    }
  ]
}